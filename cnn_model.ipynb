{
 "cells": [
  {
   "cell_type": "markdown",
   "metadata": {},
   "source": [
    "# IMDB Movie Sentiment Analasis"
   ]
  },
  {
   "cell_type": "markdown",
   "metadata": {},
   "source": [
    "In this notebook, we will use the IMDB movie reviews dataset, provided on Kaggle (https://www.kaggle.com/c/word2vec-nlp-tutorial/data), to build a sentiment analysis model using NLP. "
   ]
  },
  {
   "cell_type": "markdown",
   "metadata": {},
   "source": [
    "Rather than using the Word2Vec model (which provided little to no gains in our score), this time we will be using the Doc2Vec model which will consider the order of words in our review as well, giving us not only each word's average feature vector, but also the whole review's average feature vector as well. Through this, we hope to improve our score. "
   ]
  },
  {
   "cell_type": "markdown",
   "metadata": {},
   "source": [
    "## Importing the Data"
   ]
  },
  {
   "cell_type": "code",
   "execution_count": 404,
   "metadata": {},
   "outputs": [],
   "source": [
    "import numpy as np\n",
    "import pandas as pd # to read the csv datasets and import them into python"
   ]
  },
  {
   "cell_type": "code",
   "execution_count": 405,
   "metadata": {},
   "outputs": [],
   "source": [
    "data_path = \"data\" # path to the data folder in your directory\n",
    "# import the labeled and unlabeled training data to train our model\n",
    "train_1 = pd.read_csv(data_path + \"/labeledTrainData.tsv\", header=0, delimiter=\"\\t\", quoting=3) \n",
    "train_2 = pd.read_csv(data_path + \"/imdb_master.csv\", encoding=\"latin-1\") \n",
    "\n"
   ]
  },
  {
   "cell_type": "code",
   "execution_count": 406,
   "metadata": {},
   "outputs": [],
   "source": [
    "train_2 = train_2.drop([\"Unnamed: 0\",\"type\",\"file\"],axis=1)\n",
    "train_2.columns = [\"review\",\"sentiment\"]"
   ]
  },
  {
   "cell_type": "code",
   "execution_count": 407,
   "metadata": {},
   "outputs": [],
   "source": [
    "train_2 = train_2[train_2.sentiment != 'unsup']\n",
    "train_2['sentiment'] = train_2['sentiment'].map({'pos': 1, 'neg': 0})"
   ]
  },
  {
   "cell_type": "code",
   "execution_count": 408,
   "metadata": {},
   "outputs": [],
   "source": [
    "train = pd.concat([train_1, train_2]).reset_index(drop=True)"
   ]
  },
  {
   "cell_type": "markdown",
   "metadata": {},
   "source": [
    "## Preprocessing"
   ]
  },
  {
   "cell_type": "code",
   "execution_count": 409,
   "metadata": {},
   "outputs": [
    {
     "name": "stdout",
     "output_type": "stream",
     "text": [
      "showing info https://raw.githubusercontent.com/nltk/nltk_data/gh-pages/index.xml\n"
     ]
    }
   ],
   "source": [
    "from bs4 import BeautifulSoup # to get rid of the HTML tags in the reviews\n",
    "import re # to remove punctuations and numericals from the review\n",
    "\n",
    "from nltk.corpus import stopwords # to remove the stop words in our reviews and obtain our tokenizer\n",
    "from nltk.stem import WordNetLemmatizer # to lemmatize our reviews\n",
    "from nltk import word_tokenize\n",
    "import nltk.data\n",
    "nltk.download()\n",
    "lemmatizer = WordNetLemmatizer()\n",
    "stop_words = set(stopwords.words(\"english\"))"
   ]
  },
  {
   "cell_type": "code",
   "execution_count": 533,
   "metadata": {},
   "outputs": [],
   "source": [
    "def preprocess_review(unclean_review):\n",
    "    \"\"\" \n",
    "    Function that takes a single unclean review from the original dataset\n",
    "    and returns a cleaned and preprocessed version of it. \n",
    "    Input: string: an uncleaned review from the dataset\n",
    "    Output: string: cleaned and preprocessed review\n",
    "    \"\"\"\n",
    "    # removes the HTML tags in the review\n",
    "    untagged_review = BeautifulSoup(unclean_review).get_text() \n",
    "    # removes everything not in A-Z or a-z and replaces it with a space\n",
    "    letter_only_review = re.sub(\"[^a-zA-Z]\", \" \", untagged_review) \n",
    "    # converting everything to lowercase\n",
    "    letter_only_review = letter_only_review.lower() \n",
    "    # converting everything to tokenized words\n",
    "    tokenized_review = word_tokenize(letter_only_review)\n",
    "    # taking only the lemmatized words\n",
    "    tokens = list(map(lemmatizer.lemmatize, tokenized_review))\n",
    "    # only accepting the verbs from those lemmatized words to normalize process\n",
    "    lemmatized_tokens = list(map(lambda x: lemmatizer.lemmatize(x, \"v\"), tokens))\n",
    "    # removing all the stop words in the review\n",
    "    result = [t for t in lemmatized_tokens if not t in stop_words]\n",
    "    return result\n"
   ]
  },
  {
   "cell_type": "markdown",
   "metadata": {},
   "source": [
    "## Training the Model"
   ]
  },
  {
   "cell_type": "code",
   "execution_count": 411,
   "metadata": {},
   "outputs": [
    {
     "name": "stdout",
     "output_type": "stream",
     "text": [
      "0\n",
      "10000\n",
      "20000\n",
      "30000\n",
      "40000\n",
      "50000\n",
      "60000\n",
      "70000\n"
     ]
    }
   ],
   "source": [
    "# clean up the reviews\n",
    "x_train = []\n",
    "for i in range(len(train[\"review\"])):\n",
    "    if i % 10000 == 0:\n",
    "        print(i)\n",
    "    x_train.append(preprocess_review(train[\"review\"][i]))\n",
    "    \n",
    "y_train = train.sentiment.values"
   ]
  },
  {
   "cell_type": "code",
   "execution_count": 412,
   "metadata": {
    "scrolled": true
   },
   "outputs": [
    {
     "name": "stderr",
     "output_type": "stream",
     "text": [
      "C:\\Users\\yasoo\\Anaconda3\\envs\\walmart1\\lib\\site-packages\\tensorflow_core\\python\\framework\\indexed_slices.py:433: UserWarning: Converting sparse IndexedSlices to a dense Tensor of unknown shape. This may consume a large amount of memory.\n",
      "  \"Converting sparse IndexedSlices to a dense Tensor of unknown shape. \"\n"
     ]
    },
    {
     "name": "stdout",
     "output_type": "stream",
     "text": [
      "Train on 67500 samples, validate on 7500 samples\n",
      "Epoch 1/8\n",
      "67500/67500 [==============================] - 111s 2ms/step - loss: 0.3199 - accuracy: 0.8636 - val_loss: 0.2497 - val_accuracy: 0.9003\n",
      "Epoch 2/8\n",
      "67500/67500 [==============================] - 113s 2ms/step - loss: 0.2103 - accuracy: 0.9207 - val_loss: 0.2285 - val_accuracy: 0.9123\n",
      "Epoch 3/8\n",
      "67500/67500 [==============================] - 117s 2ms/step - loss: 0.1586 - accuracy: 0.9443 - val_loss: 0.2161 - val_accuracy: 0.9228\n",
      "Epoch 4/8\n",
      "67500/67500 [==============================] - 116s 2ms/step - loss: 0.1177 - accuracy: 0.9603 - val_loss: 0.2189 - val_accuracy: 0.9296\n",
      "Epoch 5/8\n",
      "67500/67500 [==============================] - 116s 2ms/step - loss: 0.0820 - accuracy: 0.9739 - val_loss: 0.2325 - val_accuracy: 0.9335\n",
      "Epoch 6/8\n",
      "67500/67500 [==============================] - 119s 2ms/step - loss: 0.0584 - accuracy: 0.9828 - val_loss: 0.2360 - val_accuracy: 0.9349\n",
      "Epoch 7/8\n",
      "67500/67500 [==============================] - 118s 2ms/step - loss: 0.0422 - accuracy: 0.9876 - val_loss: 0.2843 - val_accuracy: 0.9364\n",
      "Epoch 8/8\n",
      "67500/67500 [==============================] - 119s 2ms/step - loss: 0.0332 - accuracy: 0.9899 - val_loss: 0.2969 - val_accuracy: 0.9348\n"
     ]
    }
   ],
   "source": [
    "from sklearn.model_selection import train_test_split\n",
    "from keras.preprocessing.text import Tokenizer\n",
    "from keras.preprocessing.sequence import pad_sequences\n",
    "from keras.layers import Dense , Input , LSTM , Embedding, Dropout , Activation, GRU, Flatten\n",
    "from keras.layers import Bidirectional, GlobalMaxPool1D\n",
    "from keras.models import Model, Sequential\n",
    "from keras.layers import Convolution1D\n",
    "from keras import initializers, regularizers, constraints, optimizers, layers\n",
    "\n",
    "max_features = 5000 # we will keep the 5000 most freq words for our model\n",
    "tokenizer = Tokenizer(num_words=max_features)\n",
    "tokenizer.fit_on_texts(x_train)\n",
    "train_tokens = tokenizer.texts_to_sequences(x_train)\n",
    "\n",
    "max_length = 130\n",
    "x_train = pad_sequences(train_tokens, maxlen=max_length)\n",
    "\n",
    "x_train, x_test, y_train, y_test = train_test_split(x_train, y_train, test_size = 0.1, shuffle=True)\n",
    "embedding_size = 128\n",
    "model = Sequential()\n",
    "model.add(Embedding(max_features, embedding_size))\n",
    "model.add(Bidirectional(LSTM(32, return_sequences = True)))\n",
    "model.add(GlobalMaxPool1D())\n",
    "model.add(Dense(20, activation=\"relu\"))\n",
    "model.add(Dropout(0.05))\n",
    "model.add(Dense(1, activation=\"sigmoid\"))\n",
    "model.compile(loss='binary_crossentropy', optimizer='adam', metrics=['accuracy'])\n",
    "\n",
    "batch_size = 100\n",
    "epochs = 8\n",
    "history = model.fit(x=x_train, y=y_train, validation_data=(x_test, y_test), \n",
    "          batch_size=batch_size, epochs=epochs)\n"
   ]
  },
  {
   "cell_type": "markdown",
   "metadata": {},
   "source": [
    "## Output Model Results"
   ]
  },
  {
   "cell_type": "code",
   "execution_count": 413,
   "metadata": {},
   "outputs": [],
   "source": [
    "# import the test data to evaluate our model\n",
    "result_data = pd.read_csv(data_path + \"/testData.tsv\", header=0, delimiter=\"\\t\", quoting=3)"
   ]
  },
  {
   "cell_type": "code",
   "execution_count": 414,
   "metadata": {},
   "outputs": [],
   "source": [
    "result_data[\"review\"] = result_data.review.apply(lambda x: preprocess_review(x))"
   ]
  },
  {
   "cell_type": "code",
   "execution_count": 415,
   "metadata": {},
   "outputs": [],
   "source": [
    "result_data[\"sentiment\"] = result_data[\"id\"].map(lambda x: 1 if int(x.strip('\"').split(\"_\")[1]) >= 5 else 0)"
   ]
  },
  {
   "cell_type": "code",
   "execution_count": 416,
   "metadata": {},
   "outputs": [],
   "source": [
    "y_result = result_data[\"sentiment\"]\n",
    "reviews = result_data[\"review\"]\n",
    "tokenized = tokenizer.texts_to_sequences(reviews)\n",
    "x_result = pad_sequences(tokenized, maxlen=max_length)"
   ]
  },
  {
   "cell_type": "code",
   "execution_count": 417,
   "metadata": {},
   "outputs": [],
   "source": [
    "predictions = model.predict(x_result)"
   ]
  },
  {
   "cell_type": "code",
   "execution_count": 418,
   "metadata": {},
   "outputs": [],
   "source": [
    "y_result_pred = (predictions > 0.5)"
   ]
  },
  {
   "cell_type": "code",
   "execution_count": 419,
   "metadata": {},
   "outputs": [
    {
     "name": "stdout",
     "output_type": "stream",
     "text": [
      "F1-score: 0.9769425777634704\n",
      "Confusion matrix:\n"
     ]
    },
    {
     "data": {
      "text/plain": [
       "array([[12288,   361],\n",
       "       [  212, 12139]], dtype=int64)"
      ]
     },
     "execution_count": 419,
     "metadata": {},
     "output_type": "execute_result"
    }
   ],
   "source": [
    "# to obtain the area under ROC score\n",
    "from sklearn.metrics import f1_score, confusion_matrix\n",
    "print('F1-score: {0}'.format(f1_score(y_result_pred, y_result)))\n",
    "print('Confusion matrix:')\n",
    "confusion_matrix(y_result_pred, y_result)"
   ]
  },
  {
   "cell_type": "code",
   "execution_count": 420,
   "metadata": {},
   "outputs": [],
   "source": [
    "y_result_pred = y_result_pred.astype(int)"
   ]
  },
  {
   "cell_type": "code",
   "execution_count": 421,
   "metadata": {},
   "outputs": [],
   "source": [
    "y_result_pred = [item for items in y_result_pred for item in items]"
   ]
  },
  {
   "cell_type": "code",
   "execution_count": 422,
   "metadata": {},
   "outputs": [],
   "source": [
    "output = pd.DataFrame(data={\"id\":test_data[\"id\"], \"sentiment\":y_result_pred} )\n",
    "output.to_csv( \"cnn_model.csv\", index=False, quoting=3 )"
   ]
  },
  {
   "cell_type": "code",
   "execution_count": 423,
   "metadata": {},
   "outputs": [
    {
     "data": {
      "text/html": [
       "<div>\n",
       "<style scoped>\n",
       "    .dataframe tbody tr th:only-of-type {\n",
       "        vertical-align: middle;\n",
       "    }\n",
       "\n",
       "    .dataframe tbody tr th {\n",
       "        vertical-align: top;\n",
       "    }\n",
       "\n",
       "    .dataframe thead th {\n",
       "        text-align: right;\n",
       "    }\n",
       "</style>\n",
       "<table border=\"1\" class=\"dataframe\">\n",
       "  <thead>\n",
       "    <tr style=\"text-align: right;\">\n",
       "      <th></th>\n",
       "      <th>id</th>\n",
       "      <th>sentiment</th>\n",
       "    </tr>\n",
       "  </thead>\n",
       "  <tbody>\n",
       "    <tr>\n",
       "      <th>0</th>\n",
       "      <td>\"12311_10\"</td>\n",
       "      <td>1</td>\n",
       "    </tr>\n",
       "    <tr>\n",
       "      <th>1</th>\n",
       "      <td>\"8348_2\"</td>\n",
       "      <td>0</td>\n",
       "    </tr>\n",
       "    <tr>\n",
       "      <th>2</th>\n",
       "      <td>\"5828_4\"</td>\n",
       "      <td>0</td>\n",
       "    </tr>\n",
       "    <tr>\n",
       "      <th>3</th>\n",
       "      <td>\"7186_2\"</td>\n",
       "      <td>0</td>\n",
       "    </tr>\n",
       "    <tr>\n",
       "      <th>4</th>\n",
       "      <td>\"12128_7\"</td>\n",
       "      <td>1</td>\n",
       "    </tr>\n",
       "    <tr>\n",
       "      <th>...</th>\n",
       "      <td>...</td>\n",
       "      <td>...</td>\n",
       "    </tr>\n",
       "    <tr>\n",
       "      <th>24995</th>\n",
       "      <td>\"2155_10\"</td>\n",
       "      <td>1</td>\n",
       "    </tr>\n",
       "    <tr>\n",
       "      <th>24996</th>\n",
       "      <td>\"59_10\"</td>\n",
       "      <td>1</td>\n",
       "    </tr>\n",
       "    <tr>\n",
       "      <th>24997</th>\n",
       "      <td>\"2531_1\"</td>\n",
       "      <td>0</td>\n",
       "    </tr>\n",
       "    <tr>\n",
       "      <th>24998</th>\n",
       "      <td>\"7772_8\"</td>\n",
       "      <td>1</td>\n",
       "    </tr>\n",
       "    <tr>\n",
       "      <th>24999</th>\n",
       "      <td>\"11465_10\"</td>\n",
       "      <td>1</td>\n",
       "    </tr>\n",
       "  </tbody>\n",
       "</table>\n",
       "<p>25000 rows × 2 columns</p>\n",
       "</div>"
      ],
      "text/plain": [
       "               id  sentiment\n",
       "0      \"12311_10\"          1\n",
       "1        \"8348_2\"          0\n",
       "2        \"5828_4\"          0\n",
       "3        \"7186_2\"          0\n",
       "4       \"12128_7\"          1\n",
       "...           ...        ...\n",
       "24995   \"2155_10\"          1\n",
       "24996     \"59_10\"          1\n",
       "24997    \"2531_1\"          0\n",
       "24998    \"7772_8\"          1\n",
       "24999  \"11465_10\"          1\n",
       "\n",
       "[25000 rows x 2 columns]"
      ]
     },
     "execution_count": 423,
     "metadata": {},
     "output_type": "execute_result"
    }
   ],
   "source": [
    "output"
   ]
  },
  {
   "cell_type": "code",
   "execution_count": null,
   "metadata": {},
   "outputs": [],
   "source": []
  },
  {
   "cell_type": "markdown",
   "metadata": {},
   "source": [
    "## Visualizing the Model"
   ]
  },
  {
   "cell_type": "markdown",
   "metadata": {},
   "source": [
    "In this part, we will visualize the confusion matrix and the model accuracy/loss curves, using guidance from <a href=\"https://www.kaggle.com/alexcherniuk/imdb-review-word2vec-bilstm-99-acc\">here</a>"
   ]
  },
  {
   "cell_type": "code",
   "execution_count": 424,
   "metadata": {},
   "outputs": [],
   "source": [
    "y_train_predictions = model.predict_classes(x_train)\n",
    "y_test_predictions = model.predict_classes(x_test)"
   ]
  },
  {
   "cell_type": "code",
   "execution_count": 425,
   "metadata": {},
   "outputs": [],
   "source": [
    "# library to plot the confusion matrix and our curves\n",
    "import matplotlib.pyplot as plt \n",
    "from sklearn.metrics import accuracy_score, confusion_matrix\n",
    "import seaborn as sb\n",
    "\n",
    "\n",
    "# function to plot the confusion matrix\n",
    "def plot_confusion_matrix(y_true, y_pred, ax, class_names, vmax=None,\n",
    "                          normed=True, title='Confusion matrix'):\n",
    "    matrix = confusion_matrix(y_true,y_pred)\n",
    "    if normed:\n",
    "        matrix = matrix.astype('float') / matrix.sum(axis=1)[:, np.newaxis]\n",
    "    sb.heatmap(matrix, annot=True, square=True, ax=ax,\n",
    "               cmap=plt.cm.Blues_r, cbar=False, linecolor='black',\n",
    "               linewidths=1, xticklabels=class_names)\n",
    "    ax.set_title(title, y=1, fontsize=16)\n",
    "    ax.set_ylabel('True labels', fontsize=16)\n",
    "    ax.set_xlabel('Predicted labels', y=1, fontsize=16)\n",
    "    ax.set_yticklabels(class_names, rotation=0)\n",
    "    \n"
   ]
  },
  {
   "cell_type": "code",
   "execution_count": 426,
   "metadata": {},
   "outputs": [
    {
     "data": {
      "image/png": "[encoded data removed]",
      "text/plain": [
       "<Figure size 1080x1080 with 2 Axes>"
      ]
     },
     "metadata": {
      "needs_background": "light"
     },
     "output_type": "display_data"
    }
   ],
   "source": [
    "fig, (axis1, axis2) = plt.subplots(nrows=1, ncols=2, figsize=(15, 15))\n",
    "plot_confusion_matrix(y_train, y_train_predictions, ax=axis1,\n",
    "                      title='Confusion matrix (train data)',\n",
    "                      class_names=['Positive', 'Negative'])\n",
    "plot_confusion_matrix(y_test, y_test_predictions, ax=axis2,\n",
    "                      title='Confusion matrix (test data)',\n",
    "                      class_names=['Positive', 'Negative'])"
   ]
  },
  {
   "cell_type": "code",
   "execution_count": 427,
   "metadata": {},
   "outputs": [
    {
     "data": {
      "image/png": "[encoded data removed]",
      "text/plain": [
       "<Figure size 1152x432 with 2 Axes>"
      ]
     },
     "metadata": {
      "needs_background": "light"
     },
     "output_type": "display_data"
    }
   ],
   "source": [
    "fig, (axis1, axis2) = plt.subplots(nrows=1, ncols=2, figsize=(16,6))\n",
    "\n",
    "# summarize history for accuracy\n",
    "axis1.plot(history.history['accuracy'], label='Train', linewidth=3)\n",
    "axis1.plot(history.history['val_accuracy'], label='Validation', linewidth=3)\n",
    "axis1.set_title('Model accuracy', fontsize=16)\n",
    "axis1.set_ylabel('accuracy')\n",
    "axis1.set_xlabel('epoch')\n",
    "axis1.legend(loc='upper left')\n",
    "\n",
    "# summarize history for loss\n",
    "axis2.plot(history.history['loss'], label='Train', linewidth=3)\n",
    "axis2.plot(history.history['val_loss'], label='Validation', linewidth=3)\n",
    "axis2.set_title('Model loss', fontsize=16)\n",
    "axis2.set_ylabel('loss')\n",
    "axis2.set_xlabel('epoch')\n",
    "axis2.legend(loc='upper right')\n",
    "plt.show()"
   ]
  },
  {
   "cell_type": "code",
   "execution_count": null,
   "metadata": {},
   "outputs": [],
   "source": []
  },
  {
   "cell_type": "markdown",
   "metadata": {},
   "source": [
    "## Analysis"
   ]
  },
  {
   "cell_type": "markdown",
   "metadata": {},
   "source": [
    "1) How many movie reviews are positive and how many are negative in labeledTrainData.tsv? Do we have balance between the classes?\n"
   ]
  },
  {
   "cell_type": "code",
   "execution_count": 453,
   "metadata": {},
   "outputs": [
    {
     "data": {
      "text/plain": [
       "Text(0, 0.5, 'Num of reviews')"
      ]
     },
     "execution_count": 453,
     "metadata": {},
     "output_type": "execute_result"
    },
    {
     "data": {
      "image/png": "[encoded data removed]",
      "text/plain": [
       "<Figure size 432x288 with 1 Axes>"
      ]
     },
     "metadata": {
      "needs_background": "light"
     },
     "output_type": "display_data"
    }
   ],
   "source": [
    "positive = train_1[train_1.sentiment == 1]\n",
    "negative = train_1[train_1.sentiment == 0]\n",
    "x = [\"Positive\", \"Negative\"]\n",
    "y = [len(positive), len(negative)]\n",
    "plt.bar(x, y, color=[\"orange\", \"purple\"])\n",
    "plt.title(\"Distribution of reviews\")\n",
    "plt.ylabel(\"Num of reviews\", fontsize=12)"
   ]
  },
  {
   "cell_type": "markdown",
   "metadata": {},
   "source": [
    "As we can observe, both the positive and negative reviews are equally balanced (12,500 each) in the labeledTrainData.tsv"
   ]
  },
  {
   "cell_type": "markdown",
   "metadata": {},
   "source": [
    "2) What is the average length of all the cleaned up reviews (string length)?"
   ]
  },
  {
   "cell_type": "code",
   "execution_count": 534,
   "metadata": {},
   "outputs": [
    {
     "name": "stdout",
     "output_type": "stream",
     "text": [
      "0\n",
      "10000\n",
      "20000\n"
     ]
    }
   ],
   "source": [
    "cleaned_reviews = []\n",
    "for i in range(len(train_1[\"review\"])):\n",
    "    if i % 10000 == 0:\n",
    "        print(i)\n",
    "    cleaned_reviews.append(preprocess_review(train_1[\"review\"][i]))"
   ]
  },
  {
   "cell_type": "code",
   "execution_count": 536,
   "metadata": {},
   "outputs": [],
   "source": [
    "import scipy, statistics\n",
    "review_lengths = []\n",
    "for review in cleaned_reviews:\n",
    "    review_lengths.append(len(review))\n",
    "average = np.mean(review_lengths)\n",
    "mode = statistics.mode(review_lengths)\n",
    "median = np.median(review_lengths)"
   ]
  },
  {
   "cell_type": "code",
   "execution_count": 547,
   "metadata": {},
   "outputs": [
    {
     "name": "stdout",
     "output_type": "stream",
     "text": [
      "Average: 122.18704, Mode: 66, Median: 91.0\n"
     ]
    },
    {
     "data": {
      "image/png": "[encoded data removed]",
      "text/plain": [
       "<Figure size 1080x288 with 1 Axes>"
      ]
     },
     "metadata": {
      "needs_background": "light"
     },
     "output_type": "display_data"
    }
   ],
   "source": [
    "fig, ax = plt.subplots(figsize=(15, 4))\n",
    "sb.distplot(review_lengths, bins=2000, ax=ax, color=\"orange\")\n",
    "ax.set_xlim(left=0, right=np.percentile(review_lengths, 95))\n",
    "ax.set_xlabel(\"Words in a review\", fontsize=16)\n",
    "ax.set_ylabel(\"Distribution of words\", fontsize=16)\n",
    "plt.axvline(x=average, ymin=0, ymax=1, label=\"Average\", color=\"red\")\n",
    "plt.axvline(x=mode, ymin=0, ymax=1, label=\"Mode\", color=\"blue\")\n",
    "plt.axvline(x=median, ymin=0, ymax=1, label=\"Median\", color=\"green\")\n",
    "plt.legend()\n",
    "print(\"Average: {}, Mode: {}, Median: {}\".format(average, mode, median))"
   ]
  },
  {
   "cell_type": "code",
   "execution_count": null,
   "metadata": {},
   "outputs": [],
   "source": []
  }
 ],
 "metadata": {
  "kernelspec": {
   "display_name": "walmart1",
   "language": "python",
   "name": "walmart1"
  },
  "language_info": {
   "codemirror_mode": {
    "name": "ipython",
    "version": 3
   },
   "file_extension": ".py",
   "mimetype": "text/x-python",
   "name": "python",
   "nbconvert_exporter": "python",
   "pygments_lexer": "ipython3",
   "version": "3.6.10"
  }
 },
 "nbformat": 4,
 "nbformat_minor": 4
}
